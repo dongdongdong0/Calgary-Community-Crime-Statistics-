{
 "cells": [
  {
   "cell_type": "code",
   "execution_count": 1,
   "id": "70463dda-1280-48ae-9d1c-2095ee63186f",
   "metadata": {},
   "outputs": [],
   "source": [
    "import mysql.connector\n",
    "from mysql.connector import errorcode\n",
    "import pandas as pd\n",
    "import numpy as np\n"
   ]
  },
  {
   "cell_type": "code",
   "execution_count": 2,
   "id": "b4cf70e4-c681-4345-a3a0-b4b84743fb24",
   "metadata": {},
   "outputs": [],
   "source": [
    "#use the file way of storing password or set passw to your password\n",
    "with open(\"l01-4_password.txt\") as f:\n",
    "    passw = f.read()"
   ]
  },
  {
   "cell_type": "code",
   "execution_count": 3,
   "id": "797c9851-21bb-474c-8a00-e0884a8e198b",
   "metadata": {},
   "outputs": [
    {
     "data": {
      "text/plain": [
       "<mysql.connector.connection_cext.CMySQLConnection at 0x142167abe10>"
      ]
     },
     "execution_count": 3,
     "metadata": {},
     "output_type": "execute_result"
    }
   ],
   "source": [
    "# uncomment the lines below and fill in any relevant details that need to be changed here, such as if you set up a different user or password\n",
    "\n",
    "    \n",
    "# attempt a connection\n",
    "user_name = 'l01-4'\n",
    "myconnection = mysql.connector.connect(user=user_name, \n",
    "                                       password=passw,\n",
    "                                       host='datasciencedb.ucalgary.ca', \n",
    "                                       database=user_name,\n",
    "                                       allow_local_infile=True)\n",
    "myconnection"
   ]
  },
  {
   "cell_type": "code",
   "execution_count": 4,
   "id": "8ada6bc8-93a2-4cf3-b749-adbd14a5955e",
   "metadata": {},
   "outputs": [
    {
     "name": "stdout",
     "output_type": "stream",
     "text": [
      "Table created successfully!\n"
     ]
    },
    {
     "data": {
      "text/plain": [
       "True"
      ]
     },
     "execution_count": 4,
     "metadata": {},
     "output_type": "execute_result"
    }
   ],
   "source": [
    "# CREATE TABLE STATEMENT\n",
    "create_statement = '''CREATE TABLE POLICE_SERVICE_STATIONS (\n",
    "  STATION_ID INT NOT NULL AUTO_INCREMENT,\n",
    "  STATION_NAME VARCHAR(255),\n",
    "  STATION_TYPE VARCHAR(255),\n",
    "  ADDRESS VARCHAR(255),\n",
    "  INFO VARCHAR(20),\n",
    "  CREATED_DT DATE,\n",
    "  MODIFIED_DT DATE,\n",
    "  POINT GEOMETRY,\n",
    "  PRIMARY KEY (STATION_ID)\n",
    ") ENGINE=InnoDB DEFAULT CHARSET=utf8;\n",
    "'''\n",
    "# now we'll create a cursor and run our create statement\n",
    "create_cursor = myconnection.cursor()\n",
    "try:\n",
    "    create_cursor.execute(create_statement)\n",
    "except mysql.connector.Error as err:\n",
    "    if err.errno == errorcode.ER_TABLE_EXISTS_ERROR:\n",
    "        print(\"Ooops! We already have that table\")\n",
    "        # uncomment if you would like to remove table\n",
    "        drop_sql = \"DROP TABLE IF EXISTS POLICE_SERVICE_STATIONS;\"\n",
    "        create_cursor.execute(drop_sql)\n",
    "        print(\"Table Dropped\")\n",
    "        create_cursor.execute(create_statement)\n",
    "        print(\"Table created successfully!\")\n",
    "    else:\n",
    "        print(err.msg)\n",
    "else:\n",
    "    print(\"Table created successfully!\")\n",
    "\n",
    "create_cursor.close()"
   ]
  },
  {
   "cell_type": "code",
   "execution_count": 5,
   "id": "c1049b40-ebc8-4318-bec6-12d7aba14734",
   "metadata": {},
   "outputs": [],
   "source": [
    "myconnection.close()"
   ]
  },
  {
   "cell_type": "code",
   "execution_count": null,
   "id": "2b7c01ce-384e-4a48-88af-d3461f33310e",
   "metadata": {},
   "outputs": [],
   "source": []
  }
 ],
 "metadata": {
  "kernelspec": {
   "display_name": "Python 3 (ipykernel)",
   "language": "python",
   "name": "python3"
  },
  "language_info": {
   "codemirror_mode": {
    "name": "ipython",
    "version": 3
   },
   "file_extension": ".py",
   "mimetype": "text/x-python",
   "name": "python",
   "nbconvert_exporter": "python",
   "pygments_lexer": "ipython3",
   "version": "3.11.5"
  }
 },
 "nbformat": 4,
 "nbformat_minor": 5
}
